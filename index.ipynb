{
 "cells": [
  {
   "cell_type": "markdown",
   "source": [
    "## EDA of Job Market Performance in the U.S. During the COVID-19 Pandemic"
   ],
   "metadata": {}
  },
  {
   "cell_type": "markdown",
   "source": [
    "The motivation behind this project stems from my job searching experience during the COVID-19 pandemic as a Class of 2020 University graduate. I was curious, and wanted to gain insight into the unemployment rates over the past decade for various education levels, and explore which industries within the states holding the highest unemployment rates have been the most impacted."
   ],
   "metadata": {}
  },
  {
   "cell_type": "code",
   "execution_count": 2,
   "source": [
    "import pandas as pd\n",
    "import matplotlib.pyplot as plt \n",
    "import seaborn as sns"
   ],
   "outputs": [],
   "metadata": {}
  },
  {
   "cell_type": "code",
   "execution_count": 3,
   "source": [
    "df = pd.read_csv('../unemployment_data/unemployment_data_us.csv')"
   ],
   "outputs": [],
   "metadata": {}
  },
  {
   "cell_type": "code",
   "execution_count": 4,
   "source": [
    "df.head()"
   ],
   "outputs": [
    {
     "output_type": "execute_result",
     "data": {
      "text/html": [
       "<div>\n",
       "<style scoped>\n",
       "    .dataframe tbody tr th:only-of-type {\n",
       "        vertical-align: middle;\n",
       "    }\n",
       "\n",
       "    .dataframe tbody tr th {\n",
       "        vertical-align: top;\n",
       "    }\n",
       "\n",
       "    .dataframe thead th {\n",
       "        text-align: right;\n",
       "    }\n",
       "</style>\n",
       "<table border=\"1\" class=\"dataframe\">\n",
       "  <thead>\n",
       "    <tr style=\"text-align: right;\">\n",
       "      <th></th>\n",
       "      <th>Year</th>\n",
       "      <th>Month</th>\n",
       "      <th>Primary_School</th>\n",
       "      <th>Date</th>\n",
       "      <th>High_School</th>\n",
       "      <th>Associates_Degree</th>\n",
       "      <th>Professional_Degree</th>\n",
       "      <th>White</th>\n",
       "      <th>Black</th>\n",
       "      <th>Asian</th>\n",
       "      <th>Hispanic</th>\n",
       "      <th>Men</th>\n",
       "      <th>Women</th>\n",
       "    </tr>\n",
       "  </thead>\n",
       "  <tbody>\n",
       "    <tr>\n",
       "      <th>0</th>\n",
       "      <td>2010</td>\n",
       "      <td>Jan</td>\n",
       "      <td>15.3</td>\n",
       "      <td>Jan-2010</td>\n",
       "      <td>10.2</td>\n",
       "      <td>8.6</td>\n",
       "      <td>4.9</td>\n",
       "      <td>8.8</td>\n",
       "      <td>16.5</td>\n",
       "      <td>8.3</td>\n",
       "      <td>12.9</td>\n",
       "      <td>10.2</td>\n",
       "      <td>7.9</td>\n",
       "    </tr>\n",
       "    <tr>\n",
       "      <th>1</th>\n",
       "      <td>2011</td>\n",
       "      <td>Jan</td>\n",
       "      <td>14.3</td>\n",
       "      <td>Jan-2011</td>\n",
       "      <td>9.5</td>\n",
       "      <td>8.1</td>\n",
       "      <td>4.3</td>\n",
       "      <td>8.1</td>\n",
       "      <td>15.8</td>\n",
       "      <td>6.8</td>\n",
       "      <td>12.3</td>\n",
       "      <td>9.0</td>\n",
       "      <td>7.9</td>\n",
       "    </tr>\n",
       "    <tr>\n",
       "      <th>2</th>\n",
       "      <td>2012</td>\n",
       "      <td>Jan</td>\n",
       "      <td>13.0</td>\n",
       "      <td>Jan-2012</td>\n",
       "      <td>8.5</td>\n",
       "      <td>7.1</td>\n",
       "      <td>4.3</td>\n",
       "      <td>7.4</td>\n",
       "      <td>13.6</td>\n",
       "      <td>6.7</td>\n",
       "      <td>10.7</td>\n",
       "      <td>7.7</td>\n",
       "      <td>7.6</td>\n",
       "    </tr>\n",
       "    <tr>\n",
       "      <th>3</th>\n",
       "      <td>2013</td>\n",
       "      <td>Jan</td>\n",
       "      <td>12.0</td>\n",
       "      <td>Jan-2013</td>\n",
       "      <td>8.1</td>\n",
       "      <td>6.9</td>\n",
       "      <td>3.8</td>\n",
       "      <td>7.1</td>\n",
       "      <td>13.7</td>\n",
       "      <td>6.4</td>\n",
       "      <td>9.7</td>\n",
       "      <td>7.5</td>\n",
       "      <td>7.2</td>\n",
       "    </tr>\n",
       "    <tr>\n",
       "      <th>4</th>\n",
       "      <td>2014</td>\n",
       "      <td>Jan</td>\n",
       "      <td>9.4</td>\n",
       "      <td>Jan-2014</td>\n",
       "      <td>6.5</td>\n",
       "      <td>5.9</td>\n",
       "      <td>3.3</td>\n",
       "      <td>5.7</td>\n",
       "      <td>12.1</td>\n",
       "      <td>4.7</td>\n",
       "      <td>8.3</td>\n",
       "      <td>6.2</td>\n",
       "      <td>5.8</td>\n",
       "    </tr>\n",
       "  </tbody>\n",
       "</table>\n",
       "</div>"
      ],
      "text/plain": [
       "   Year Month  Primary_School      Date  High_School  Associates_Degree  \\\n",
       "0  2010   Jan            15.3  Jan-2010         10.2                8.6   \n",
       "1  2011   Jan            14.3  Jan-2011          9.5                8.1   \n",
       "2  2012   Jan            13.0  Jan-2012          8.5                7.1   \n",
       "3  2013   Jan            12.0  Jan-2013          8.1                6.9   \n",
       "4  2014   Jan             9.4  Jan-2014          6.5                5.9   \n",
       "\n",
       "   Professional_Degree  White  Black  Asian  Hispanic   Men  Women  \n",
       "0                  4.9    8.8   16.5    8.3      12.9  10.2    7.9  \n",
       "1                  4.3    8.1   15.8    6.8      12.3   9.0    7.9  \n",
       "2                  4.3    7.4   13.6    6.7      10.7   7.7    7.6  \n",
       "3                  3.8    7.1   13.7    6.4       9.7   7.5    7.2  \n",
       "4                  3.3    5.7   12.1    4.7       8.3   6.2    5.8  "
      ]
     },
     "metadata": {},
     "execution_count": 4
    }
   ],
   "metadata": {}
  },
  {
   "cell_type": "code",
   "execution_count": 5,
   "source": [
    "df.columns"
   ],
   "outputs": [
    {
     "output_type": "execute_result",
     "data": {
      "text/plain": [
       "Index(['Year', 'Month', 'Primary_School', 'Date', 'High_School',\n",
       "       'Associates_Degree', 'Professional_Degree', 'White', 'Black', 'Asian',\n",
       "       'Hispanic', 'Men', 'Women'],\n",
       "      dtype='object')"
      ]
     },
     "metadata": {},
     "execution_count": 5
    }
   ],
   "metadata": {}
  },
  {
   "cell_type": "code",
   "execution_count": 6,
   "source": [
    "df.describe()"
   ],
   "outputs": [
    {
     "output_type": "execute_result",
     "data": {
      "text/html": [
       "<div>\n",
       "<style scoped>\n",
       "    .dataframe tbody tr th:only-of-type {\n",
       "        vertical-align: middle;\n",
       "    }\n",
       "\n",
       "    .dataframe tbody tr th {\n",
       "        vertical-align: top;\n",
       "    }\n",
       "\n",
       "    .dataframe thead th {\n",
       "        text-align: right;\n",
       "    }\n",
       "</style>\n",
       "<table border=\"1\" class=\"dataframe\">\n",
       "  <thead>\n",
       "    <tr style=\"text-align: right;\">\n",
       "      <th></th>\n",
       "      <th>Year</th>\n",
       "      <th>Primary_School</th>\n",
       "      <th>High_School</th>\n",
       "      <th>Associates_Degree</th>\n",
       "      <th>Professional_Degree</th>\n",
       "      <th>White</th>\n",
       "      <th>Black</th>\n",
       "      <th>Asian</th>\n",
       "      <th>Hispanic</th>\n",
       "      <th>Men</th>\n",
       "      <th>Women</th>\n",
       "    </tr>\n",
       "  </thead>\n",
       "  <tbody>\n",
       "    <tr>\n",
       "      <th>count</th>\n",
       "      <td>132.000000</td>\n",
       "      <td>123.000000</td>\n",
       "      <td>123.000000</td>\n",
       "      <td>123.000000</td>\n",
       "      <td>123.000000</td>\n",
       "      <td>123.000000</td>\n",
       "      <td>123.000000</td>\n",
       "      <td>123.000000</td>\n",
       "      <td>123.000000</td>\n",
       "      <td>123.000000</td>\n",
       "      <td>123.000000</td>\n",
       "    </tr>\n",
       "    <tr>\n",
       "      <th>mean</th>\n",
       "      <td>2015.000000</td>\n",
       "      <td>9.329268</td>\n",
       "      <td>6.391057</td>\n",
       "      <td>5.338211</td>\n",
       "      <td>3.127642</td>\n",
       "      <td>5.455285</td>\n",
       "      <td>10.692683</td>\n",
       "      <td>4.679675</td>\n",
       "      <td>7.660163</td>\n",
       "      <td>5.848780</td>\n",
       "      <td>5.485366</td>\n",
       "    </tr>\n",
       "    <tr>\n",
       "      <th>std</th>\n",
       "      <td>3.174324</td>\n",
       "      <td>3.343178</td>\n",
       "      <td>2.223607</td>\n",
       "      <td>1.895314</td>\n",
       "      <td>0.937585</td>\n",
       "      <td>1.881454</td>\n",
       "      <td>3.615907</td>\n",
       "      <td>1.668363</td>\n",
       "      <td>2.837274</td>\n",
       "      <td>2.160577</td>\n",
       "      <td>1.750910</td>\n",
       "    </tr>\n",
       "    <tr>\n",
       "      <th>min</th>\n",
       "      <td>2010.000000</td>\n",
       "      <td>4.800000</td>\n",
       "      <td>3.400000</td>\n",
       "      <td>2.700000</td>\n",
       "      <td>1.900000</td>\n",
       "      <td>3.100000</td>\n",
       "      <td>5.400000</td>\n",
       "      <td>2.100000</td>\n",
       "      <td>3.900000</td>\n",
       "      <td>3.100000</td>\n",
       "      <td>3.100000</td>\n",
       "    </tr>\n",
       "    <tr>\n",
       "      <th>25%</th>\n",
       "      <td>2012.000000</td>\n",
       "      <td>6.350000</td>\n",
       "      <td>4.450000</td>\n",
       "      <td>3.700000</td>\n",
       "      <td>2.300000</td>\n",
       "      <td>3.750000</td>\n",
       "      <td>7.400000</td>\n",
       "      <td>3.300000</td>\n",
       "      <td>5.050000</td>\n",
       "      <td>3.950000</td>\n",
       "      <td>3.900000</td>\n",
       "    </tr>\n",
       "    <tr>\n",
       "      <th>50%</th>\n",
       "      <td>2015.000000</td>\n",
       "      <td>8.500000</td>\n",
       "      <td>5.500000</td>\n",
       "      <td>4.900000</td>\n",
       "      <td>2.800000</td>\n",
       "      <td>4.800000</td>\n",
       "      <td>10.300000</td>\n",
       "      <td>4.200000</td>\n",
       "      <td>6.800000</td>\n",
       "      <td>5.200000</td>\n",
       "      <td>5.000000</td>\n",
       "    </tr>\n",
       "    <tr>\n",
       "      <th>75%</th>\n",
       "      <td>2018.000000</td>\n",
       "      <td>12.250000</td>\n",
       "      <td>8.300000</td>\n",
       "      <td>7.000000</td>\n",
       "      <td>4.000000</td>\n",
       "      <td>7.250000</td>\n",
       "      <td>13.900000</td>\n",
       "      <td>6.050000</td>\n",
       "      <td>10.150000</td>\n",
       "      <td>7.600000</td>\n",
       "      <td>7.400000</td>\n",
       "    </tr>\n",
       "    <tr>\n",
       "      <th>max</th>\n",
       "      <td>2020.000000</td>\n",
       "      <td>15.800000</td>\n",
       "      <td>11.000000</td>\n",
       "      <td>8.900000</td>\n",
       "      <td>5.000000</td>\n",
       "      <td>9.000000</td>\n",
       "      <td>16.800000</td>\n",
       "      <td>8.300000</td>\n",
       "      <td>12.900000</td>\n",
       "      <td>10.300000</td>\n",
       "      <td>8.400000</td>\n",
       "    </tr>\n",
       "  </tbody>\n",
       "</table>\n",
       "</div>"
      ],
      "text/plain": [
       "              Year  Primary_School  High_School  Associates_Degree  \\\n",
       "count   132.000000      123.000000   123.000000         123.000000   \n",
       "mean   2015.000000        9.329268     6.391057           5.338211   \n",
       "std       3.174324        3.343178     2.223607           1.895314   \n",
       "min    2010.000000        4.800000     3.400000           2.700000   \n",
       "25%    2012.000000        6.350000     4.450000           3.700000   \n",
       "50%    2015.000000        8.500000     5.500000           4.900000   \n",
       "75%    2018.000000       12.250000     8.300000           7.000000   \n",
       "max    2020.000000       15.800000    11.000000           8.900000   \n",
       "\n",
       "       Professional_Degree       White       Black       Asian    Hispanic  \\\n",
       "count           123.000000  123.000000  123.000000  123.000000  123.000000   \n",
       "mean              3.127642    5.455285   10.692683    4.679675    7.660163   \n",
       "std               0.937585    1.881454    3.615907    1.668363    2.837274   \n",
       "min               1.900000    3.100000    5.400000    2.100000    3.900000   \n",
       "25%               2.300000    3.750000    7.400000    3.300000    5.050000   \n",
       "50%               2.800000    4.800000   10.300000    4.200000    6.800000   \n",
       "75%               4.000000    7.250000   13.900000    6.050000   10.150000   \n",
       "max               5.000000    9.000000   16.800000    8.300000   12.900000   \n",
       "\n",
       "              Men       Women  \n",
       "count  123.000000  123.000000  \n",
       "mean     5.848780    5.485366  \n",
       "std      2.160577    1.750910  \n",
       "min      3.100000    3.100000  \n",
       "25%      3.950000    3.900000  \n",
       "50%      5.200000    5.000000  \n",
       "75%      7.600000    7.400000  \n",
       "max     10.300000    8.400000  "
      ]
     },
     "metadata": {},
     "execution_count": 6
    }
   ],
   "metadata": {}
  },
  {
   "cell_type": "code",
   "execution_count": 7,
   "source": [
    "df.columns"
   ],
   "outputs": [
    {
     "output_type": "execute_result",
     "data": {
      "text/plain": [
       "Index(['Year', 'Month', 'Primary_School', 'Date', 'High_School',\n",
       "       'Associates_Degree', 'Professional_Degree', 'White', 'Black', 'Asian',\n",
       "       'Hispanic', 'Men', 'Women'],\n",
       "      dtype='object')"
      ]
     },
     "metadata": {},
     "execution_count": 7
    }
   ],
   "metadata": {}
  },
  {
   "cell_type": "code",
   "execution_count": 8,
   "source": [
    "# Histogram to compare unemployment rates at each education level between 2010-2020\n",
    "\n",
    "plt.figure(figsize=(12,6))\n",
    "plt.hist(df['Primary_School'], bins=30, alpha=0.6, label=\"Primary School\")\n",
    "plt.hist(df['High_School'], bins=30, alpha=0.6, label=\"High School\")\n",
    "plt.hist(df['Associates_Degree'], bins=30, alpha=0.6, label=\"Associates Degree\")\n",
    "plt.hist(df['Professional_Degree'], bins=30, alpha=0.6, label=\"Professional Degree\")\n",
    "\n",
    "plt.xlabel(\"Unemployment Rate\", size=14)\n",
    "plt.ylabel(\"Count\", size=14)\n",
    "plt.title(\"Unemployment Rates Per Education Level\")\n",
    "plt.legend(loc='upper right')"
   ],
   "outputs": [
    {
     "output_type": "execute_result",
     "data": {
      "text/plain": [
       "<matplotlib.legend.Legend at 0x105e2dc10>"
      ]
     },
     "metadata": {},
     "execution_count": 8
    },
    {
     "output_type": "display_data",
     "data": {
      "image/png": "[encoded data removed]",
      "text/plain": [
       "<Figure size 864x432 with 1 Axes>"
      ]
     },
     "metadata": {
      "needs_background": "light"
     }
    }
   ],
   "metadata": {}
  },
  {
   "cell_type": "markdown",
   "source": [
    "The above histogram displaying shows large dispersion predominantly in the unemployment rate of individuals with a Primary School education level. Overall, a right skewness can be observed for each of the respective education levels so it is critical to address that the mode of each data point is closer to the left side. In addition, it suggests that there are a number of data points, possibly outliers that are greater than the mode."
   ],
   "metadata": {}
  },
  {
   "cell_type": "code",
   "execution_count": 9,
   "source": [
    "boxplot = df.boxplot(column = ['Primary_School', 'High_School', 'Associates_Degree', 'Professional_Degree'], figsize=(10,4))\n",
    "boxplot.set_ylabel('Unemployment Rate')\n",
    "boxplot.set_xlabel('Education Level')\n"
   ],
   "outputs": [
    {
     "output_type": "execute_result",
     "data": {
      "text/plain": [
       "Text(0.5, 0, 'Education Level')"
      ]
     },
     "metadata": {},
     "execution_count": 9
    },
    {
     "output_type": "display_data",
     "data": {
      "image/png": "[encoded data removed]",
      "text/plain": [
       "<Figure size 720x288 with 1 Axes>"
      ]
     },
     "metadata": {
      "needs_background": "light"
     }
    }
   ],
   "metadata": {}
  },
  {
   "cell_type": "markdown",
   "source": [
    "The above boxplot shows a a decreasing trend in the Interquartile Range (IQR) values as the level of education increases. A Primary School education level suggests the largest variability in comparison to the other education levels and holds the highest median unemployment rate of 8.5. This is in stark contrast to the median unemployment rate of 2.8, seen by the Professional Degree holders."
   ],
   "metadata": {}
  },
  {
   "cell_type": "code",
   "execution_count": 10,
   "source": [
    "# build correlation matrix \n",
    "df[['Primary_School', 'High_School', 'Associates_Degree', 'Professional_Degree']].corr()"
   ],
   "outputs": [
    {
     "output_type": "execute_result",
     "data": {
      "text/html": [
       "<div>\n",
       "<style scoped>\n",
       "    .dataframe tbody tr th:only-of-type {\n",
       "        vertical-align: middle;\n",
       "    }\n",
       "\n",
       "    .dataframe tbody tr th {\n",
       "        vertical-align: top;\n",
       "    }\n",
       "\n",
       "    .dataframe thead th {\n",
       "        text-align: right;\n",
       "    }\n",
       "</style>\n",
       "<table border=\"1\" class=\"dataframe\">\n",
       "  <thead>\n",
       "    <tr style=\"text-align: right;\">\n",
       "      <th></th>\n",
       "      <th>Primary_School</th>\n",
       "      <th>High_School</th>\n",
       "      <th>Associates_Degree</th>\n",
       "      <th>Professional_Degree</th>\n",
       "    </tr>\n",
       "  </thead>\n",
       "  <tbody>\n",
       "    <tr>\n",
       "      <th>Primary_School</th>\n",
       "      <td>1.000000</td>\n",
       "      <td>0.984425</td>\n",
       "      <td>0.985272</td>\n",
       "      <td>0.981041</td>\n",
       "    </tr>\n",
       "    <tr>\n",
       "      <th>High_School</th>\n",
       "      <td>0.984425</td>\n",
       "      <td>1.000000</td>\n",
       "      <td>0.979736</td>\n",
       "      <td>0.980980</td>\n",
       "    </tr>\n",
       "    <tr>\n",
       "      <th>Associates_Degree</th>\n",
       "      <td>0.985272</td>\n",
       "      <td>0.979736</td>\n",
       "      <td>1.000000</td>\n",
       "      <td>0.980368</td>\n",
       "    </tr>\n",
       "    <tr>\n",
       "      <th>Professional_Degree</th>\n",
       "      <td>0.981041</td>\n",
       "      <td>0.980980</td>\n",
       "      <td>0.980368</td>\n",
       "      <td>1.000000</td>\n",
       "    </tr>\n",
       "  </tbody>\n",
       "</table>\n",
       "</div>"
      ],
      "text/plain": [
       "                     Primary_School  High_School  Associates_Degree  \\\n",
       "Primary_School             1.000000     0.984425           0.985272   \n",
       "High_School                0.984425     1.000000           0.979736   \n",
       "Associates_Degree          0.985272     0.979736           1.000000   \n",
       "Professional_Degree        0.981041     0.980980           0.980368   \n",
       "\n",
       "                     Professional_Degree  \n",
       "Primary_School                  0.981041  \n",
       "High_School                     0.980980  \n",
       "Associates_Degree               0.980368  \n",
       "Professional_Degree             1.000000  "
      ]
     },
     "metadata": {},
     "execution_count": 10
    }
   ],
   "metadata": {}
  },
  {
   "cell_type": "code",
   "execution_count": 11,
   "source": [
    "cmap = sns.diverging_palette(120, 275, s=80, l=55, n=9, as_cmap=True)\n",
    "sns.heatmap(df[['Primary_School', 'High_School', 'Associates_Degree', 'Professional_Degree']].corr(),square=True, linewidths=.5, cbar_kws={\"shrink\": 0.5}, cmap=cmap)\n"
   ],
   "outputs": [
    {
     "output_type": "execute_result",
     "data": {
      "text/plain": [
       "<AxesSubplot:>"
      ]
     },
     "metadata": {},
     "execution_count": 11
    },
    {
     "output_type": "display_data",
     "data": {
      "image/png": "[encoded data removed]",
      "text/plain": [
       "<Figure size 432x288 with 2 Axes>"
      ]
     },
     "metadata": {
      "needs_background": "light"
     }
    }
   ],
   "metadata": {}
  },
  {
   "cell_type": "markdown",
   "source": [
    "It can be seen by the above corrrelation matrix and heatmap, that although the various forms of education are all quite correlated with one another, the ```Professional_Degree``` provides the least positive correlation with other levels of education. This is supported by the mean unemployment rate of individuals with a Professional Degree being the lowest with 3.127642. It would further support the claim that increasingly higher education levels would increase ones chances of employment."
   ],
   "metadata": {}
  },
  {
   "cell_type": "code",
   "execution_count": 12,
   "source": [
    "# Filter for unemployment rates in the year 2020 for Jan-March\n",
    "is_2020 = df['Year'] == 2020\n",
    "unmp_2020 = df[is_2020]\n",
    "\n",
    "# Remove months that contain invalid (NaN/null) unemployment rates\n",
    "cleaned_unmp_2020 = unmp_2020.dropna()\n",
    "cleaned_unmp_2020.head()"
   ],
   "outputs": [
    {
     "output_type": "execute_result",
     "data": {
      "text/html": [
       "<div>\n",
       "<style scoped>\n",
       "    .dataframe tbody tr th:only-of-type {\n",
       "        vertical-align: middle;\n",
       "    }\n",
       "\n",
       "    .dataframe tbody tr th {\n",
       "        vertical-align: top;\n",
       "    }\n",
       "\n",
       "    .dataframe thead th {\n",
       "        text-align: right;\n",
       "    }\n",
       "</style>\n",
       "<table border=\"1\" class=\"dataframe\">\n",
       "  <thead>\n",
       "    <tr style=\"text-align: right;\">\n",
       "      <th></th>\n",
       "      <th>Year</th>\n",
       "      <th>Month</th>\n",
       "      <th>Primary_School</th>\n",
       "      <th>Date</th>\n",
       "      <th>High_School</th>\n",
       "      <th>Associates_Degree</th>\n",
       "      <th>Professional_Degree</th>\n",
       "      <th>White</th>\n",
       "      <th>Black</th>\n",
       "      <th>Asian</th>\n",
       "      <th>Hispanic</th>\n",
       "      <th>Men</th>\n",
       "      <th>Women</th>\n",
       "    </tr>\n",
       "  </thead>\n",
       "  <tbody>\n",
       "    <tr>\n",
       "      <th>10</th>\n",
       "      <td>2020</td>\n",
       "      <td>Jan</td>\n",
       "      <td>5.5</td>\n",
       "      <td>Jan-2020</td>\n",
       "      <td>3.8</td>\n",
       "      <td>2.8</td>\n",
       "      <td>2.0</td>\n",
       "      <td>3.1</td>\n",
       "      <td>6.0</td>\n",
       "      <td>3.0</td>\n",
       "      <td>4.3</td>\n",
       "      <td>3.3</td>\n",
       "      <td>3.2</td>\n",
       "    </tr>\n",
       "    <tr>\n",
       "      <th>21</th>\n",
       "      <td>2020</td>\n",
       "      <td>Feb</td>\n",
       "      <td>5.7</td>\n",
       "      <td>Feb-2020</td>\n",
       "      <td>3.6</td>\n",
       "      <td>3.0</td>\n",
       "      <td>1.9</td>\n",
       "      <td>3.1</td>\n",
       "      <td>5.8</td>\n",
       "      <td>2.5</td>\n",
       "      <td>4.4</td>\n",
       "      <td>3.3</td>\n",
       "      <td>3.1</td>\n",
       "    </tr>\n",
       "    <tr>\n",
       "      <th>32</th>\n",
       "      <td>2020</td>\n",
       "      <td>Mar</td>\n",
       "      <td>6.8</td>\n",
       "      <td>Mar-2020</td>\n",
       "      <td>4.4</td>\n",
       "      <td>3.7</td>\n",
       "      <td>2.5</td>\n",
       "      <td>4.0</td>\n",
       "      <td>6.7</td>\n",
       "      <td>4.1</td>\n",
       "      <td>6.0</td>\n",
       "      <td>4.0</td>\n",
       "      <td>4.0</td>\n",
       "    </tr>\n",
       "  </tbody>\n",
       "</table>\n",
       "</div>"
      ],
      "text/plain": [
       "    Year Month  Primary_School      Date  High_School  Associates_Degree  \\\n",
       "10  2020   Jan             5.5  Jan-2020          3.8                2.8   \n",
       "21  2020   Feb             5.7  Feb-2020          3.6                3.0   \n",
       "32  2020   Mar             6.8  Mar-2020          4.4                3.7   \n",
       "\n",
       "    Professional_Degree  White  Black  Asian  Hispanic  Men  Women  \n",
       "10                  2.0    3.1    6.0    3.0       4.3  3.3    3.2  \n",
       "21                  1.9    3.1    5.8    2.5       4.4  3.3    3.1  \n",
       "32                  2.5    4.0    6.7    4.1       6.0  4.0    4.0  "
      ]
     },
     "metadata": {},
     "execution_count": 12
    }
   ],
   "metadata": {}
  },
  {
   "cell_type": "code",
   "execution_count": 13,
   "source": [
    "# Turning point in unemployment rates in February\n",
    "cleaned_unmp_2020.set_index('Date')[['Primary_School', 'High_School', 'Associates_Degree', 'Professional_Degree']].plot()"
   ],
   "outputs": [
    {
     "output_type": "execute_result",
     "data": {
      "text/plain": [
       "<AxesSubplot:xlabel='Date'>"
      ]
     },
     "metadata": {},
     "execution_count": 13
    },
    {
     "output_type": "display_data",
     "data": {
      "image/png": "[encoded data removed]",
      "text/plain": [
       "<Figure size 432x288 with 1 Axes>"
      ]
     },
     "metadata": {
      "needs_background": "light"
     }
    }
   ],
   "metadata": {}
  },
  {
   "cell_type": "markdown",
   "source": [
    "In the above line plot, an upwards turning point can be seen in the unemployment rates at the beginning of February. A parallel can be drawn between said turning point and the declaration of Public Health Emergency of International Concern on 30 January 2020 by the World Health Organization (WHO)."
   ],
   "metadata": {}
  },
  {
   "cell_type": "markdown",
   "source": [
    "#### Dataset Citation:\n",
    "\n",
    "Shirahatti, A. (2020, April). US Unemployment Dataset (2010 - 2020), Version 2. Retrieved September 13, 2021 from https://www.kaggle.com/aniruddhasshirahatti/us-unemployment-dataset-2010-2020."
   ],
   "metadata": {}
  }
 ],
 "metadata": {
  "orig_nbformat": 4,
  "language_info": {
   "name": "python",
   "version": "3.9.0",
   "mimetype": "text/x-python",
   "codemirror_mode": {
    "name": "ipython",
    "version": 3
   },
   "pygments_lexer": "ipython3",
   "nbconvert_exporter": "python",
   "file_extension": ".py"
  },
  "kernelspec": {
   "name": "python3",
   "display_name": "Python 3.9.0 64-bit"
  },
  "interpreter": {
   "hash": "aee8b7b246df8f9039afb4144a1f6fd8d2ca17a180786b69acc140d282b71a49"
  }
 },
 "nbformat": 4,
 "nbformat_minor": 2
}